{
  "nbformat": 4,
  "nbformat_minor": 0,
  "metadata": {
    "kernelspec": {
      "display_name": "Python 3.5",
      "name": "python3",
      "language": "python"
    },
    "language_info": {
      "mimetype": "text/x-python",
      "nbconvert_exporter": "python",
      "version": "3.5.5",
      "name": "python",
      "file_extension": ".py",
      "pygments_lexer": "ipython3",
      "codemirror_mode": {
        "version": 3,
        "name": "ipython"
      }
    },
    "colab": {
      "name": "The_Battle_of_Neighborhoods_Week_1.ipynb",
      "provenance": [],
      "collapsed_sections": []
    }
  },
  "cells": [
    {
      "cell_type": "markdown",
      "metadata": {
        "id": "oG6-bOYZyChK",
        "colab_type": "text"
      },
      "source": [
        "# Coursera Capstone Project\n",
        "\n",
        "## The Battle of Neighborhoods - Final Report (Week 1 and 2)\n",
        "\n",
        "## Fabio Henrique Frazao Mendes    \n",
        "\n",
        "## 13/01/2020\n",
        "\n"
      ]
    },
    {
      "cell_type": "markdown",
      "metadata": {
        "id": "kj03u6gwyChc",
        "colab_type": "text"
      },
      "source": [
        "## Table of contents\n",
        "* [1. Introduction Section](#introduction)\n",
        "* [2. Data Section](#data)\n",
        "* [3. Methodology](#methodology)\n",
        "* [4. Analysis](#analysis)\n",
        "* [5. Results and Discussion](#results)\n",
        "* [6. Conclusion](#conclusion)"
      ]
    },
    {
      "cell_type": "markdown",
      "metadata": {
        "id": "an7rIoDOyChe",
        "colab_type": "text"
      },
      "source": [
        "#1. Introduction Section: <a name=\"introduction\"></a>\n",
        "### Discussion of the business problem and the audience who would be interested in this project.\n"
      ]
    },
    {
      "cell_type": "markdown",
      "metadata": {
        "id": "sJ_Ne2m3yChg",
        "colab_type": "text"
      },
      "source": [
        "### 1.1 Scenario and  Background\n",
        "\n",
        "I live in São Paulo in Brazil and work at the Secretariat of Finance and Planning - SEFAZ-SP and to get around in São Paulo I use the subway. I am currently analyzing whether I change my neighborhood or stay in my apartment. It should be emphasized that an important factor that should not be ignored is location. After all, the place where people live has a major influence on quality of life and any choice in this regard must be made by respecting a set of criteria that must be defined before the search for a new home begins.\n",
        "\n",
        "\n",
        "    "
      ]
    },
    {
      "cell_type": "markdown",
      "metadata": {
        "id": "ldMUFJ3wyChj",
        "colab_type": "text"
      },
      "source": [
        "### 1.2  Problem to be resolved:   \n",
        "\n",
        "When searching for a property you need to consider a number of important aspects that include both negotiating and choosing the property itself, including the best neighborhood for your needs. So a good place to live is critical for you to live well. A safe place, close to work and neighborhood facilities like supermarket, hospital, pharmacy and restaurant and near the best places in town. The challenge to solve is being able to find an apartment for rent that combines the factors presented.\n",
        "\n",
        "### 1.3 Interested Audience\n",
        "This project will be relevant for a person considering moving to Sao Paulo and also for new residents, as the approach and methodologies used here are applicable in all cases. The use of FourSquare data and mapping techniques combined with data analysis will help resolve the key issues raised. Finally, this project is a good case study for developing data science skills.\n"
      ]
    },
    {
      "cell_type": "markdown",
      "metadata": {
        "id": "KJl2_iA_yChm",
        "colab_type": "text"
      },
      "source": [
        "# 2. Data Section: <a name=\"data\"></a>\n",
        "### Description of the data and its sources that will be used to solve the problem"
      ]
    },
    {
      "cell_type": "markdown",
      "metadata": {
        "id": "NSZdk9PS_okq",
        "colab_type": "text"
      },
      "source": [
        "Based on definition of our problem, factors that will influence our decission to rent a new apartment in Sao Paulo are:\n",
        "\n",
        "- Safe place;\n",
        "- Distance from work;\n",
        "- Near the subway;\n",
        "- Rent price;\n",
        "- Neighborhood Facilities.\n",
        "\n",
        "\n",
        "Following data sources will be needed to extract/generate the required information:\n",
        "* 7 safe neighborhoods were chosen to live in search on  the site survey https://meulugar.quintoandar.com.br/bairros-mais-seguros-de-sao-paulo/. The neighborhoods are Paraíso, Itaim Bibi, Vila Nova Conceição, Barra Funda, Higienopolis, Mooca and Pinheiros. It is necessary to mention who I live in Paraíso.\n",
        "* The Google maps was used to find the latitude and longitude of places, distance from work and distance from the subway.\n",
        "* The neighborhood facilities like example restaurant, hospital, pharmacy were obtained Foursquare API.\n",
        "* The price of the apartment for rent was found on the website www.quintoandar.com.br"
      ]
    }
  ]
}